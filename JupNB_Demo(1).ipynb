{
 "cells": [
  {
   "cell_type": "markdown",
   "metadata": {},
   "source": [
    "# Jupyter Notebook Demonstration.\n",
    "\n",
    "This is a markdown code cell.  Used for entering explanative text etc."
   ]
  },
  {
   "cell_type": "markdown",
   "metadata": {},
   "source": [
    "<img src=\"http://www.unh.edu/sites/all/themes/custom/unh7_2b/images/logo_horizontal.svg\"> \n",
    "<img src=\"http://pandas.pydata.org/_static/pandas_logo.png\">"
   ]
  },
  {
   "cell_type": "code",
   "execution_count": 63,
   "metadata": {
    "collapsed": false
   },
   "outputs": [
    {
     "name": "stdout",
     "output_type": "stream",
     "text": [
      "anaconda3\t  JupNB_Demo.ipynb  Public\t    Untitled1.ipynb\r\n",
      "Desktop\t\t  Liquid\t    Pyth\t    Untitled2.ipynb\r\n",
      "Documents\t  login.txt\t    shockDBproject  Untitled.ipynb\r\n",
      "Downloads\t  MorsePCFiles\t    Templates\t    Videos\r\n",
      "examples.desktop  Music\t\t    testfile.txt\r\n",
      "HPC\t\t  Pictures\t    UNHWifi\r\n"
     ]
    }
   ],
   "source": [
    "!ls"
   ]
  },
  {
   "cell_type": "code",
   "execution_count": 64,
   "metadata": {
    "collapsed": false
   },
   "outputs": [
    {
     "data": {
      "application/json": {
       "cell": {
        "!": "OSMagics",
        "HTML": "Other",
        "SVG": "Other",
        "bash": "Other",
        "capture": "ExecutionMagics",
        "debug": "ExecutionMagics",
        "file": "Other",
        "html": "DisplayMagics",
        "javascript": "DisplayMagics",
        "js": "DisplayMagics",
        "latex": "DisplayMagics",
        "perl": "Other",
        "prun": "ExecutionMagics",
        "pypy": "Other",
        "python": "Other",
        "python2": "Other",
        "python3": "Other",
        "ruby": "Other",
        "script": "ScriptMagics",
        "sh": "Other",
        "svg": "DisplayMagics",
        "sx": "OSMagics",
        "system": "OSMagics",
        "time": "ExecutionMagics",
        "timeit": "ExecutionMagics",
        "writefile": "OSMagics"
       },
       "line": {
        "alias": "OSMagics",
        "alias_magic": "BasicMagics",
        "autocall": "AutoMagics",
        "automagic": "AutoMagics",
        "autosave": "KernelMagics",
        "bookmark": "OSMagics",
        "cat": "Other",
        "cd": "OSMagics",
        "clear": "KernelMagics",
        "colors": "BasicMagics",
        "config": "ConfigMagics",
        "connect_info": "KernelMagics",
        "cp": "Other",
        "debug": "ExecutionMagics",
        "dhist": "OSMagics",
        "dirs": "OSMagics",
        "doctest_mode": "BasicMagics",
        "ed": "Other",
        "edit": "KernelMagics",
        "env": "OSMagics",
        "gui": "BasicMagics",
        "hist": "Other",
        "history": "HistoryMagics",
        "killbgscripts": "ScriptMagics",
        "ldir": "Other",
        "less": "KernelMagics",
        "lf": "Other",
        "lk": "Other",
        "ll": "Other",
        "load": "CodeMagics",
        "load_ext": "ExtensionMagics",
        "loadpy": "CodeMagics",
        "logoff": "LoggingMagics",
        "logon": "LoggingMagics",
        "logstart": "LoggingMagics",
        "logstate": "LoggingMagics",
        "logstop": "LoggingMagics",
        "ls": "Other",
        "lsmagic": "BasicMagics",
        "lx": "Other",
        "macro": "ExecutionMagics",
        "magic": "BasicMagics",
        "man": "KernelMagics",
        "matplotlib": "PylabMagics",
        "mkdir": "Other",
        "more": "KernelMagics",
        "mv": "Other",
        "notebook": "BasicMagics",
        "page": "BasicMagics",
        "pastebin": "CodeMagics",
        "pdb": "ExecutionMagics",
        "pdef": "NamespaceMagics",
        "pdoc": "NamespaceMagics",
        "pfile": "NamespaceMagics",
        "pinfo": "NamespaceMagics",
        "pinfo2": "NamespaceMagics",
        "popd": "OSMagics",
        "pprint": "BasicMagics",
        "precision": "BasicMagics",
        "profile": "BasicMagics",
        "prun": "ExecutionMagics",
        "psearch": "NamespaceMagics",
        "psource": "NamespaceMagics",
        "pushd": "OSMagics",
        "pwd": "OSMagics",
        "pycat": "OSMagics",
        "pylab": "PylabMagics",
        "qtconsole": "KernelMagics",
        "quickref": "BasicMagics",
        "recall": "HistoryMagics",
        "rehashx": "OSMagics",
        "reload_ext": "ExtensionMagics",
        "rep": "Other",
        "rerun": "HistoryMagics",
        "reset": "NamespaceMagics",
        "reset_selective": "NamespaceMagics",
        "rm": "Other",
        "rmdir": "Other",
        "run": "ExecutionMagics",
        "save": "CodeMagics",
        "sc": "OSMagics",
        "set_env": "OSMagics",
        "store": "StoreMagics",
        "sx": "OSMagics",
        "system": "OSMagics",
        "tb": "ExecutionMagics",
        "time": "ExecutionMagics",
        "timeit": "ExecutionMagics",
        "unalias": "OSMagics",
        "unload_ext": "ExtensionMagics",
        "who": "NamespaceMagics",
        "who_ls": "NamespaceMagics",
        "whos": "NamespaceMagics",
        "xdel": "NamespaceMagics",
        "xmode": "BasicMagics"
       }
      },
      "text/plain": [
       "Available line magics:\n",
       "%alias  %alias_magic  %autocall  %automagic  %autosave  %bookmark  %cat  %cd  %clear  %colors  %config  %connect_info  %cp  %debug  %dhist  %dirs  %doctest_mode  %ed  %edit  %env  %gui  %hist  %history  %killbgscripts  %ldir  %less  %lf  %lk  %ll  %load  %load_ext  %loadpy  %logoff  %logon  %logstart  %logstate  %logstop  %ls  %lsmagic  %lx  %macro  %magic  %man  %matplotlib  %mkdir  %more  %mv  %notebook  %page  %pastebin  %pdb  %pdef  %pdoc  %pfile  %pinfo  %pinfo2  %popd  %pprint  %precision  %profile  %prun  %psearch  %psource  %pushd  %pwd  %pycat  %pylab  %qtconsole  %quickref  %recall  %rehashx  %reload_ext  %rep  %rerun  %reset  %reset_selective  %rm  %rmdir  %run  %save  %sc  %set_env  %store  %sx  %system  %tb  %time  %timeit  %unalias  %unload_ext  %who  %who_ls  %whos  %xdel  %xmode\n",
       "\n",
       "Available cell magics:\n",
       "%%!  %%HTML  %%SVG  %%bash  %%capture  %%debug  %%file  %%html  %%javascript  %%js  %%latex  %%perl  %%prun  %%pypy  %%python  %%python2  %%python3  %%ruby  %%script  %%sh  %%svg  %%sx  %%system  %%time  %%timeit  %%writefile\n",
       "\n",
       "Automagic is ON, % prefix IS NOT needed for line magics."
      ]
     },
     "execution_count": 64,
     "metadata": {},
     "output_type": "execute_result"
    }
   ],
   "source": [
    "%lsmagic"
   ]
  },
  {
   "cell_type": "code",
   "execution_count": 100,
   "metadata": {
    "collapsed": false
   },
   "outputs": [
    {
     "data": {
      "text/latex": [
       "\\begin{equation}\\label{cycfreq}\n",
       "r_c=r_L =\\frac{mv_{\\perp}}{eB},\\qquad   \\omega_c = \\frac{v_{\\perp}}{r_c}= \\frac{eB}{m}.\n",
       "\\end{equation}"
      ],
      "text/plain": [
       "<IPython.core.display.Latex object>"
      ]
     },
     "metadata": {},
     "output_type": "display_data"
    }
   ],
   "source": [
    "%%latex\n",
    "\\begin{equation}\\label{cycfreq}\n",
    "r_c=r_L =\\frac{mv_{\\perp}}{eB},\\qquad   \\omega_c = \\frac{v_{\\perp}}{r_c}= \\frac{eB}{m}.\n",
    "\\end{equation}"
   ]
  },
  {
   "cell_type": "markdown",
   "metadata": {},
   "source": [
    "What follow is an example of running and demonstrating code in a Jupyter Notebook."
   ]
  },
  {
   "cell_type": "code",
   "execution_count": 15,
   "metadata": {
    "collapsed": false
   },
   "outputs": [],
   "source": [
    "import numpy as np\n",
    "import matplotlib.pyplot as plt\n",
    "import datetime\n",
    "import pandas as pd"
   ]
  },
  {
   "cell_type": "markdown",
   "metadata": {},
   "source": [
    "Below I read in a .csv file, do some formatting, and load the result into a Pandas dataframe."
   ]
  },
  {
   "cell_type": "code",
   "execution_count": 25,
   "metadata": {
    "collapsed": false
   },
   "outputs": [
    {
     "name": "stderr",
     "output_type": "stream",
     "text": [
      "/home/derick/anaconda3/lib/python3.6/site-packages/ipykernel/__main__.py:1: DeprecationWarning: 'U' mode is deprecated\n",
      "  if __name__ == '__main__':\n"
     ]
    }
   ],
   "source": [
    "infile = open(\"/home/derick/shockDBproject/ip_shock_data_base.csv\",\"rU\")\n",
    "lines = infile.readlines()\n",
    "#print(lines)\n",
    "lines = lines[1:-1]\n",
    "#print(lines)\n",
    "infile.close()\n",
    "#print(lines)\n",
    "rows=[]\n",
    "x=[]\n",
    "thxn=[]\n",
    "vs=[]\n",
    "X=[]\n",
    "Ms=[]\n",
    "dSMR=[]\n",
    "dSME=[]\n",
    "dSML=[]\n",
    "\n",
    "for eachrow in lines:\n",
    "    x.append(eachrow.split(\"\\\"\")[1])\n",
    "    eachrow=eachrow.split(\"\\\"\")[2].split(\",\")[1:]  #grabs just the numbers\n",
    "    eachrow[-1]=eachrow[-1][:-2]  #trims of the \\n\n",
    "    rows.append(eachrow)\n",
    "    thxn.append(float(eachrow[0]))\n",
    "    vs.append(float(eachrow[1]))\n",
    "    X.append(float(eachrow[2]))\n",
    "    Ms.append(float(eachrow[3]))\n",
    "    dSMR.append(float(eachrow[4]))\n",
    "    dSME.append(float(eachrow[5]))\n",
    "    dSML.append(float(eachrow[6]))\n",
    "    #print(eachrow)\n",
    "#print(rows)\n",
    "dates=[]\n",
    "for eachrow in x:\n",
    "    eachrow=eachrow.split(\"(\")[0].split()  #makes each row a list of date elements\n",
    "    year = int(eachrow[0])\n",
    "    day = int(eachrow[2])\n",
    "    hour = int(eachrow[3][:-2])\n",
    "    minute = int(eachrow[3][2:])\n",
    "    if eachrow[1] == 'Jan':\n",
    "        month = 1\n",
    "    if eachrow[1] == 'Feb':\n",
    "        month = 2\n",
    "    if eachrow[1] == 'Mar':\n",
    "        month = 3\n",
    "    if eachrow[1] == 'Apr':\n",
    "        month = 4\n",
    "    if eachrow[1] == 'May':\n",
    "        month = 5\n",
    "    if eachrow[1] == 'Jun':\n",
    "        month = 6\n",
    "    if eachrow[1] == 'Jul':\n",
    "        month = 7\n",
    "    if eachrow[1] == 'Aug':\n",
    "        month = 8\n",
    "    if eachrow[1] == 'Sep':\n",
    "        month = 9\n",
    "    if eachrow[1] == 'Oct':\n",
    "        month = 10\n",
    "    if eachrow[1] == 'Nov':\n",
    "        month = 11\n",
    "    if eachrow[1] == 'Dec':\n",
    "        month = 12\n",
    "    dates.append(datetime.datetime(year, month, day, hour, minute))\n",
    " \n",
    "#print(len(dates))\n",
    "#print(len(thxn))\n",
    "#print(len(vs))\n",
    "d={'shocktime': pd.Series(dates), 'thxn':pd.Series(thxn), 'vs':pd.Series(vs), 'Ms':pd.Series(Ms)}\n",
    "df = pd.DataFrame(d)\n",
    "df = df.set_index([\"shocktime\"])"
   ]
  },
  {
   "cell_type": "code",
   "execution_count": 67,
   "metadata": {
    "collapsed": false
   },
   "outputs": [
    {
     "data": {
      "text/html": [
       "<div>\n",
       "<table border=\"1\" class=\"dataframe\">\n",
       "  <thead>\n",
       "    <tr style=\"text-align: right;\">\n",
       "      <th></th>\n",
       "      <th>Ms</th>\n",
       "      <th>thxn</th>\n",
       "      <th>vs</th>\n",
       "    </tr>\n",
       "    <tr>\n",
       "      <th>shocktime</th>\n",
       "      <th></th>\n",
       "      <th></th>\n",
       "      <th></th>\n",
       "    </tr>\n",
       "  </thead>\n",
       "  <tbody>\n",
       "    <tr>\n",
       "      <th>1994-12-05 21:01:00</th>\n",
       "      <td>1.47</td>\n",
       "      <td>139.50</td>\n",
       "      <td>378.82</td>\n",
       "    </tr>\n",
       "    <tr>\n",
       "      <th>1995-01-01 19:36:00</th>\n",
       "      <td>2.18</td>\n",
       "      <td>145.12</td>\n",
       "      <td>332.62</td>\n",
       "    </tr>\n",
       "    <tr>\n",
       "      <th>1995-02-26 02:55:00</th>\n",
       "      <td>1.46</td>\n",
       "      <td>143.45</td>\n",
       "      <td>287.50</td>\n",
       "    </tr>\n",
       "    <tr>\n",
       "      <th>1995-03-04 00:36:00</th>\n",
       "      <td>1.87</td>\n",
       "      <td>133.06</td>\n",
       "      <td>350.72</td>\n",
       "    </tr>\n",
       "    <tr>\n",
       "      <th>1995-03-23 09:37:00</th>\n",
       "      <td>2.18</td>\n",
       "      <td>161.87</td>\n",
       "      <td>373.36</td>\n",
       "    </tr>\n",
       "  </tbody>\n",
       "</table>\n",
       "</div>"
      ],
      "text/plain": [
       "                       Ms    thxn      vs\n",
       "shocktime                                \n",
       "1994-12-05 21:01:00  1.47  139.50  378.82\n",
       "1995-01-01 19:36:00  2.18  145.12  332.62\n",
       "1995-02-26 02:55:00  1.46  143.45  287.50\n",
       "1995-03-04 00:36:00  1.87  133.06  350.72\n",
       "1995-03-23 09:37:00  2.18  161.87  373.36"
      ]
     },
     "execution_count": 67,
     "metadata": {},
     "output_type": "execute_result"
    }
   ],
   "source": [
    "df.head()"
   ]
  },
  {
   "cell_type": "markdown",
   "metadata": {},
   "source": [
    "Here I read a second .csv file and load that into another Pandas Dataframe."
   ]
  },
  {
   "cell_type": "code",
   "execution_count": 35,
   "metadata": {
    "collapsed": false
   },
   "outputs": [],
   "source": [
    "shockdf = pd.read_csv(\"/home/derick/shockDBproject/Hdf_NN.csv\")\n",
    "shockdf = shockdf.set_index([\"dates\"])"
   ]
  },
  {
   "cell_type": "code",
   "execution_count": 68,
   "metadata": {
    "collapsed": false,
    "scrolled": true
   },
   "outputs": [
    {
     "data": {
      "text/html": [
       "<div>\n",
       "<table border=\"1\" class=\"dataframe\">\n",
       "  <thead>\n",
       "    <tr style=\"text-align: right;\">\n",
       "      <th></th>\n",
       "      <th>highest90</th>\n",
       "    </tr>\n",
       "    <tr>\n",
       "      <th>dates</th>\n",
       "      <th></th>\n",
       "    </tr>\n",
       "  </thead>\n",
       "  <tbody>\n",
       "    <tr>\n",
       "      <th>1994-12-05 21:01:00</th>\n",
       "      <td>1.403128</td>\n",
       "    </tr>\n",
       "    <tr>\n",
       "      <th>1995-01-01 19:36:00</th>\n",
       "      <td>4.278117</td>\n",
       "    </tr>\n",
       "    <tr>\n",
       "      <th>1995-02-26 02:55:00</th>\n",
       "      <td>0.651396</td>\n",
       "    </tr>\n",
       "    <tr>\n",
       "      <th>1995-03-04 00:36:00</th>\n",
       "      <td>1.016118</td>\n",
       "    </tr>\n",
       "    <tr>\n",
       "      <th>1995-03-23 09:37:00</th>\n",
       "      <td>1.525521</td>\n",
       "    </tr>\n",
       "  </tbody>\n",
       "</table>\n",
       "</div>"
      ],
      "text/plain": [
       "                     highest90\n",
       "dates                         \n",
       "1994-12-05 21:01:00   1.403128\n",
       "1995-01-01 19:36:00   4.278117\n",
       "1995-02-26 02:55:00   0.651396\n",
       "1995-03-04 00:36:00   1.016118\n",
       "1995-03-23 09:37:00   1.525521"
      ]
     },
     "execution_count": 68,
     "metadata": {},
     "output_type": "execute_result"
    }
   ],
   "source": [
    "shockdf.head()"
   ]
  },
  {
   "cell_type": "markdown",
   "metadata": {},
   "source": [
    "...and here I concatenate the two dataframes into one."
   ]
  },
  {
   "cell_type": "code",
   "execution_count": 69,
   "metadata": {
    "collapsed": true
   },
   "outputs": [],
   "source": [
    "result = pd.concat([df,shockdf], axis =1)"
   ]
  },
  {
   "cell_type": "code",
   "execution_count": 70,
   "metadata": {
    "collapsed": false
   },
   "outputs": [
    {
     "data": {
      "text/html": [
       "<div>\n",
       "<table border=\"1\" class=\"dataframe\">\n",
       "  <thead>\n",
       "    <tr style=\"text-align: right;\">\n",
       "      <th></th>\n",
       "      <th>Ms</th>\n",
       "      <th>thxn</th>\n",
       "      <th>vs</th>\n",
       "      <th>highest90</th>\n",
       "    </tr>\n",
       "  </thead>\n",
       "  <tbody>\n",
       "    <tr>\n",
       "      <th>1994-12-05 21:01:00</th>\n",
       "      <td>1.47</td>\n",
       "      <td>139.50</td>\n",
       "      <td>378.82</td>\n",
       "      <td>1.403128</td>\n",
       "    </tr>\n",
       "    <tr>\n",
       "      <th>1995-01-01 19:36:00</th>\n",
       "      <td>2.18</td>\n",
       "      <td>145.12</td>\n",
       "      <td>332.62</td>\n",
       "      <td>4.278117</td>\n",
       "    </tr>\n",
       "    <tr>\n",
       "      <th>1995-02-26 02:55:00</th>\n",
       "      <td>1.46</td>\n",
       "      <td>143.45</td>\n",
       "      <td>287.50</td>\n",
       "      <td>0.651396</td>\n",
       "    </tr>\n",
       "    <tr>\n",
       "      <th>1995-03-04 00:36:00</th>\n",
       "      <td>1.87</td>\n",
       "      <td>133.06</td>\n",
       "      <td>350.72</td>\n",
       "      <td>1.016118</td>\n",
       "    </tr>\n",
       "    <tr>\n",
       "      <th>1995-03-23 09:37:00</th>\n",
       "      <td>2.18</td>\n",
       "      <td>161.87</td>\n",
       "      <td>373.36</td>\n",
       "      <td>1.525521</td>\n",
       "    </tr>\n",
       "  </tbody>\n",
       "</table>\n",
       "</div>"
      ],
      "text/plain": [
       "                       Ms    thxn      vs  highest90\n",
       "1994-12-05 21:01:00  1.47  139.50  378.82   1.403128\n",
       "1995-01-01 19:36:00  2.18  145.12  332.62   4.278117\n",
       "1995-02-26 02:55:00  1.46  143.45  287.50   0.651396\n",
       "1995-03-04 00:36:00  1.87  133.06  350.72   1.016118\n",
       "1995-03-23 09:37:00  2.18  161.87  373.36   1.525521"
      ]
     },
     "execution_count": 70,
     "metadata": {},
     "output_type": "execute_result"
    }
   ],
   "source": [
    "result.head()"
   ]
  },
  {
   "cell_type": "markdown",
   "metadata": {},
   "source": [
    "Now I want to plot dsome of the data from the result dataframe:"
   ]
  },
  {
   "cell_type": "code",
   "execution_count": 76,
   "metadata": {
    "collapsed": false
   },
   "outputs": [
    {
     "data": {
      "image/png": "[encoded data removed]",
      "text/plain": [
       "<matplotlib.figure.Figure at 0x7f690ab90ef0>"
      ]
     },
     "metadata": {},
     "output_type": "display_data"
    }
   ],
   "source": [
    "plt.scatter(result['vs'], result['highest90'], color =\"blue\")\n",
    "plt.title('Station Latitudes:  $\\pm 60^\\circ$ to $\\pm 90^\\circ$')\n",
    "plt.xlabel('$V_s$')\n",
    "plt.ylabel('max($\\\\frac{dH}{dt}_{90min}$) [$\\\\frac{nT}{s}$]')\n",
    "plt.show()"
   ]
  },
  {
   "cell_type": "markdown",
   "metadata": {},
   "source": [
    "Now I want to add a best fit line:"
   ]
  },
  {
   "cell_type": "code",
   "execution_count": 72,
   "metadata": {
    "collapsed": false
   },
   "outputs": [
    {
     "data": {
      "text/plain": [
       "[<matplotlib.lines.Line2D at 0x7f690aca17b8>]"
      ]
     },
     "execution_count": 72,
     "metadata": {},
     "output_type": "execute_result"
    }
   ],
   "source": [
    "x=np.array(result['vs'])\n",
    "y=np.array(result['highest90'])\n",
    "m,b=np.polyfit(x,y,1)\n",
    "x=np.arange(x.min(), x.max(), 1)\n",
    "y=m*x+b\n",
    "plt.plot(x,m*x+b,color='red')"
   ]
  }
 ],
 "metadata": {
  "kernelspec": {
   "display_name": "Python 3",
   "language": "python",
   "name": "python3"
  },
  "language_info": {
   "codemirror_mode": {
    "name": "ipython",
    "version": 3
   },
   "file_extension": ".py",
   "mimetype": "text/x-python",
   "name": "python",
   "nbconvert_exporter": "python",
   "pygments_lexer": "ipython3",
   "version": "3.6.0"
  }
 },
 "nbformat": 4,
 "nbformat_minor": 2
}
